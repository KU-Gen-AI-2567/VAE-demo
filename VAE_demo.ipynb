{
  "nbformat": 4,
  "nbformat_minor": 0,
  "metadata": {
    "colab": {
      "provenance": [],
      "authorship_tag": "ABX9TyOwg289rMkF7xQihUEdRRHI",
      "include_colab_link": true
    },
    "kernelspec": {
      "name": "python3",
      "display_name": "Python 3"
    },
    "language_info": {
      "name": "python"
    }
  },
  "cells": [
    {
      "cell_type": "markdown",
      "metadata": {
        "id": "view-in-github",
        "colab_type": "text"
      },
      "source": [
        "<a href=\"https://colab.research.google.com/github/KU-Gen-AI-2567/VAE-demo/blob/main/VAE_demo.ipynb\" target=\"_parent\"><img src=\"https://colab.research.google.com/assets/colab-badge.svg\" alt=\"Open In Colab\"/></a>"
      ]
    },
    {
      "cell_type": "markdown",
      "source": [
        "# VAE - 01418496"
      ],
      "metadata": {
        "id": "18YnBXtcnZ0d"
      }
    },
    {
      "cell_type": "markdown",
      "source": [
        "**สมาชิกกลุ่ม**\n",
        "\n",
        "นายศิวกร ภาสว่าง 6410451423\n",
        "\n",
        "นางสาว เเพรวรุ้ง พุดชะวา 6410451253\n",
        "\n",
        "นางสาว มารีน่า มิทซุย 6410450222\n",
        "\n",
        "หมู่ 200\n",
        "\n",
        "ชุดข้อมูล : ...\n",
        "\n",
        "link download : ..."
      ],
      "metadata": {
        "id": "wqjA9pKFnipE"
      }
    },
    {
      "cell_type": "code",
      "source": [
        "import tensorflow as tf\n",
        "import matplotlib.pyplot as plt\n",
        "import kagglehub\n",
        "import shutil\n",
        "import os\n",
        "import numpy as np\n",
        "from PIL import Image\n",
        "tf.__version__"
      ],
      "metadata": {
        "id": "wkNkkaQ4oIuU"
      },
      "execution_count": null,
      "outputs": []
    },
    {
      "cell_type": "markdown",
      "source": [
        "## Setting to execute on Processor (GPU or CPU)"
      ],
      "metadata": {
        "id": "5RUxF-zxookz"
      }
    },
    {
      "cell_type": "code",
      "source": [
        "gpus = tf.config.list_physical_devices(\"GPU\")\n",
        "if len(gpus) > 0:\n",
        "    tf.config.experimental.set_memory_growth(gpus[0], True)\n",
        "    print(\"Execute on GPU\")\n",
        "else:\n",
        "    print(\"Execute on CPU\")"
      ],
      "metadata": {
        "id": "51NdTsaeoe7T"
      },
      "execution_count": null,
      "outputs": []
    },
    {
      "cell_type": "markdown",
      "source": [
        "## Download Dataset"
      ],
      "metadata": {
        "id": "u1LdiN-gotAS"
      }
    },
    {
      "cell_type": "code",
      "source": [
        "# code for downloading dataset\n",
        "# ..."
      ],
      "metadata": {
        "id": "pRCVzyIWosk7"
      },
      "execution_count": null,
      "outputs": []
    },
    {
      "cell_type": "markdown",
      "source": [
        "## Prepossessing"
      ],
      "metadata": {
        "id": "wEbFzZ6Po21r"
      }
    },
    {
      "cell_type": "code",
      "source": [
        "# code for prepossessing\n",
        "# ..."
      ],
      "metadata": {
        "id": "NoZlAPOFo11q"
      },
      "execution_count": null,
      "outputs": []
    },
    {
      "cell_type": "markdown",
      "source": [
        "## Create Model"
      ],
      "metadata": {
        "id": "-E0KEuycpNI6"
      }
    },
    {
      "cell_type": "code",
      "source": [
        "# code for creating model\n",
        "# ..."
      ],
      "metadata": {
        "id": "mc8p3sZ6pQZx"
      },
      "execution_count": null,
      "outputs": []
    },
    {
      "cell_type": "markdown",
      "source": [
        "## Train Model"
      ],
      "metadata": {
        "id": "FCSTSvE-peqi"
      }
    },
    {
      "cell_type": "code",
      "source": [
        "# code for training model\n",
        "# ..."
      ],
      "metadata": {
        "id": "UUkN8-rXphRx"
      },
      "execution_count": null,
      "outputs": []
    },
    {
      "cell_type": "markdown",
      "source": [
        "## Visulization"
      ],
      "metadata": {
        "id": "j6wdK7p5plsi"
      }
    },
    {
      "cell_type": "code",
      "source": [
        "# code for visulization\n",
        "# ..."
      ],
      "metadata": {
        "id": "bEyB2PzlprP6"
      },
      "execution_count": null,
      "outputs": []
    },
    {
      "cell_type": "markdown",
      "source": [
        "## Member Participation"
      ],
      "metadata": {
        "id": "wXrR012ZpwuC"
      }
    },
    {
      "cell_type": "markdown",
      "source": [
        "รายละเอียดการมีส่วนร่วม"
      ],
      "metadata": {
        "id": "GK--6sFfp2Wp"
      }
    }
  ]
}